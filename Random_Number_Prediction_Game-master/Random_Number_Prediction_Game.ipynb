{
 "cells": [
  {
   "cell_type": "code",
   "execution_count": null,
   "metadata": {},
   "outputs": [],
   "source": [
    "#Random number prediction game\n",
    "import random\n",
    "\n",
    "def guessGame():\n",
    "    print(\"---NUMBER PREDICTION---\")\n",
    "    while True:\n",
    "        while True:\n",
    "            try:\n",
    "                low = int(input(\"Enter the lowest range You want to find :\"))\n",
    "                high = int(input(\"Enter the highest range You want to find :\"))\n",
    "                break\n",
    "            except:\n",
    "                 print(\"Enter the valid number : \")\n",
    "        if low > high:\n",
    "            print(\"The lower number can't be greater then the higher number.\")\n",
    "        elif low+10 >= high:\n",
    "            print(\"At least lower number must be 10 less then the higher number\")\n",
    "        else:\n",
    "            break\n",
    "    \n",
    "    rand=random.randint(low,high)\n",
    "                #random.randint(0,1000)\n",
    "    number_of_guesses=1\n",
    "    print(\"Number of guesses is limited to  6 times: \")\n",
    "    while (number_of_guesses<=6):\n",
    "        try:\n",
    "            guess_number = int(input(\"Guess the number :\")) \n",
    "        except:\n",
    "            print(\"Enter the valid number\")\n",
    "        if guess_number<rand:\n",
    "            print(\"you entered lesser number, please enter  greater number than: \",guess_number)\n",
    "        elif guess_number>rand:\n",
    "            print(\"you entered greater number, please enter smaller number than: \",guess_number)\n",
    "        else:\n",
    "            print(\"Congrats You have successfully guessed the correct number\\n\")\n",
    "            print(number_of_guesses,\"no.of guesses you took to finish.\")\n",
    "            break\n",
    "        print(6-number_of_guesses,\"no. of guesses left.\\n\")\n",
    "        number_of_guesses = number_of_guesses + 1\n",
    "    if(number_of_guesses>6):\n",
    "        print(\"Game Over\")\n",
    "    \n",
    "guessGame()"
   ]
  }
 ],
 "metadata": {
  "kernelspec": {
   "display_name": "Python 3",
   "language": "python",
   "name": "python3"
  },
  "language_info": {
   "codemirror_mode": {
    "name": "ipython",
    "version": 3
   },
   "file_extension": ".py",
   "mimetype": "text/x-python",
   "name": "python",
   "nbconvert_exporter": "python",
   "pygments_lexer": "ipython3",
   "version": "3.6.7"
  }
 },
 "nbformat": 4,
 "nbformat_minor": 2
}
